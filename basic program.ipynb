{
 "cells": [
  {
   "cell_type": "markdown",
   "id": "f3681dbe",
   "metadata": {},
   "source": [
    "WAP to avarage the numbers in the list"
   ]
  },
  {
   "cell_type": "code",
   "execution_count": 1,
   "id": "eafbe50c",
   "metadata": {},
   "outputs": [
    {
     "name": "stdout",
     "output_type": "stream",
     "text": [
      "enter the number of elements you want in the list2\n",
      "enter the number in the list 5\n",
      "enter the number in the list 5\n",
      "5.0\n"
     ]
    }
   ],
   "source": [
    "n=int(input(\"enter the number of elements you want in the list\")) # input() it is used to take the value from the user \n",
    "a=[] # empty list \n",
    "for i in range(0,n):\n",
    "    element=int(input(\"enter the number in the list \"))\n",
    "    a.append(element)\n",
    "avg=sum(a)/n\n",
    "print(avg)"
   ]
  },
  {
   "cell_type": "code",
   "execution_count": 10,
   "id": "0e16c8ee",
   "metadata": {},
   "outputs": [
    {
     "name": "stdout",
     "output_type": "stream",
     "text": [
      "enter the number upto which you want the natural numbers20\n",
      "2\n",
      "4\n",
      "6\n",
      "8\n",
      "10\n",
      "12\n",
      "14\n",
      "16\n",
      "18\n",
      "20\n"
     ]
    }
   ],
   "source": [
    "n=int(input(\"enter the number upto which you want the natural numbers\"))\n",
    "\n",
    "for i in range(1,21): [1 2 3 ................20]\n",
    "    if i%2==0:\n",
    "        print(i)\n",
    "  \n",
    "    \n",
    "    "
   ]
  },
  {
   "cell_type": "markdown",
   "id": "4dfb3790",
   "metadata": {},
   "source": [
    "WAP to reverse a number in python "
   ]
  },
  {
   "cell_type": "code",
   "execution_count": 5,
   "id": "faa5bcba",
   "metadata": {},
   "outputs": [
    {
     "name": "stdout",
     "output_type": "stream",
     "text": [
      "enter the number65\n",
      "56\n"
     ]
    }
   ],
   "source": [
    "n=int(input(\"enter the number\"))\n",
    "rev=0\n",
    "while(n>0):\n",
    "    digit=n%10\n",
    "    rev=rev*10+digit\n",
    "    n=n//10\n",
    "print(rev)"
   ]
  },
  {
   "cell_type": "markdown",
   "id": "0ff6704b",
   "metadata": {},
   "source": [
    "WAP to sum of digits in the number"
   ]
  },
  {
   "cell_type": "code",
   "execution_count": 6,
   "id": "35b11d47",
   "metadata": {},
   "outputs": [
    {
     "name": "stdout",
     "output_type": "stream",
     "text": [
      "enter the number55\n",
      "10\n"
     ]
    }
   ],
   "source": [
    "n=int(input(\"enter the number\"))\n",
    "tot=0\n",
    "while(n>0):\n",
    "    digit=n%10\n",
    "    tot=tot+digit\n",
    "    n=n//10\n",
    "print(tot)"
   ]
  },
  {
   "cell_type": "markdown",
   "id": "3b68abb3",
   "metadata": {},
   "source": [
    "WAP to check if the number is palindrome or not "
   ]
  },
  {
   "cell_type": "code",
   "execution_count": 7,
   "id": "74cec4a6",
   "metadata": {},
   "outputs": [
    {
     "name": "stdout",
     "output_type": "stream",
     "text": [
      "enter the number121\n",
      "The given number is palindrome\n"
     ]
    }
   ],
   "source": [
    "n=int(input(\"enter the number\"))\n",
    "temp=n\n",
    "rev=0\n",
    "while(n>0):\n",
    "    digit=n%10\n",
    "    rev=rev*10+digit\n",
    "    n=n//10\n",
    "    \n",
    "if(rev==temp):\n",
    "    print(\"The given number is palindrome\")"
   ]
  },
  {
   "cell_type": "markdown",
   "id": "40bb53d4",
   "metadata": {},
   "source": [
    "WAP to count the number of digits in the number"
   ]
  },
  {
   "cell_type": "code",
   "execution_count": 10,
   "id": "ece8b520",
   "metadata": {},
   "outputs": [
    {
     "name": "stdout",
     "output_type": "stream",
     "text": [
      "enter the number5\n",
      "Number of digits are 1\n"
     ]
    }
   ],
   "source": [
    "n=int(input(\"enter the number\"))\n",
    "count=0\n",
    "while(n>0):\n",
    "    count=count+1\n",
    "    n=n//10\n",
    "print(\"Number of digits are\",count)"
   ]
  },
  {
   "cell_type": "markdown",
   "id": "dfee9adf",
   "metadata": {},
   "source": [
    "WAP to print tabe of a given number "
   ]
  },
  {
   "cell_type": "code",
   "execution_count": 12,
   "id": "dc08b424",
   "metadata": {},
   "outputs": [
    {
     "name": "stdout",
     "output_type": "stream",
     "text": [
      "enter the number whose table required 2\n",
      "2\n",
      "4\n",
      "6\n",
      "8\n",
      "10\n",
      "12\n",
      "14\n",
      "16\n",
      "18\n",
      "20\n"
     ]
    }
   ],
   "source": [
    "n=int(input(\"enter the number whose table required \"))\n",
    "for i in range (1,11):\n",
    "    print(n*i)"
   ]
  },
  {
   "cell_type": "markdown",
   "id": "5624b22b",
   "metadata": {},
   "source": [
    "WAP to check if the number is prime number or not "
   ]
  },
  {
   "cell_type": "code",
   "execution_count": 15,
   "id": "f57f6ae6",
   "metadata": {},
   "outputs": [
    {
     "name": "stdout",
     "output_type": "stream",
     "text": [
      "Enter the number8\n",
      "Not prime\n"
     ]
    }
   ],
   "source": [
    "n=int(input(\"Enter the number\"))\n",
    "k=0\n",
    "for i in range(2,n//2 + 1):\n",
    "    if(n%i==0):\n",
    "        k=k+1\n",
    "        \n",
    "if(k<=0):\n",
    "    print(\"number is prime\")\n",
    "else:\n",
    "    print(\"Not prime\")"
   ]
  },
  {
   "cell_type": "markdown",
   "id": "735233a4",
   "metadata": {},
   "source": [
    "WAP to check if number is armstrong or not "
   ]
  },
  {
   "cell_type": "code",
   "execution_count": 18,
   "id": "3afb61b0",
   "metadata": {},
   "outputs": [
    {
     "name": "stdout",
     "output_type": "stream",
     "text": [
      "Enter the NUmber54\n",
      "not armstrong\n"
     ]
    }
   ],
   "source": [
    "n=int(input(\"Enter the NUmber\"))\n",
    "a=list(map(int,str(n)))\n",
    "b=list(map(lambda x:x**3,a))#converting a into x and doing its cube \n",
    "if(sum(b)==n):\n",
    "    print(\"The given number is armstrong\")\n",
    "else:\n",
    "    print(\"not armstrong\")"
   ]
  },
  {
   "cell_type": "markdown",
   "id": "7609aad0",
   "metadata": {},
   "source": [
    "WAP to find the second largest number in the list "
   ]
  },
  {
   "cell_type": "code",
   "execution_count": 20,
   "id": "a2451018",
   "metadata": {},
   "outputs": [
    {
     "name": "stdout",
     "output_type": "stream",
     "text": [
      "enter the number of elements needed in the list5\n",
      "Enter the element in the list1\n",
      "Enter the element in the list2\n",
      "Enter the element in the list3\n",
      "Enter the element in the list4\n",
      "Enter the element in the list5\n",
      "4\n"
     ]
    }
   ],
   "source": [
    "n=int(input(\"enter the number of elements needed in the list\"))\n",
    "a=[]\n",
    "for i in range(0,n):\n",
    "    b=int(input(\"Enter the element in the list\"))\n",
    "    a.append(b)\n",
    "a.sort()\n",
    "print(a[n-2])"
   ]
  },
  {
   "cell_type": "markdown",
   "id": "138b6a38",
   "metadata": {},
   "source": [
    "WAP to Swap the first and last value of the list"
   ]
  },
  {
   "cell_type": "code",
   "execution_count": 21,
   "id": "0d5f1f24",
   "metadata": {},
   "outputs": [
    {
     "name": "stdout",
     "output_type": "stream",
     "text": [
      "Enter the number of elements in the list4\n",
      "enter the element of list1\n",
      "enter the element of list2\n",
      "enter the element of list3\n",
      "enter the element of list4\n",
      "[4, 2, 3, 1]\n"
     ]
    }
   ],
   "source": [
    "n=int(input(\"Enter the number of elements in the list\"))\n",
    "a=[]\n",
    "for i in range(0,n):\n",
    "    b=int(input(\"enter the element of list\"))\n",
    "    a.append(b)\n",
    "temp=a[0]\n",
    "a[0]=a[n-1]\n",
    "a[n-1]=temp\n",
    "print(a)"
   ]
  },
  {
   "cell_type": "markdown",
   "id": "ca96bef2",
   "metadata": {},
   "source": [
    "WAP to check if a string is a palindrome or not "
   ]
  },
  {
   "cell_type": "code",
   "execution_count": 24,
   "id": "ed5dbe5c",
   "metadata": {},
   "outputs": [
    {
     "name": "stdout",
     "output_type": "stream",
     "text": [
      "Enter the stringAVA\n",
      "string is palindrome\n"
     ]
    }
   ],
   "source": [
    "string= input(\"Enter the string\")\n",
    "if(string==string[::-1]):\n",
    "    print(\"string is palindrome\")\n",
    "else:\n",
    "    print(\"not\")"
   ]
  }
 ],
 "metadata": {
  "kernelspec": {
   "display_name": "Python 3 (ipykernel)",
   "language": "python",
   "name": "python3"
  },
  "language_info": {
   "codemirror_mode": {
    "name": "ipython",
    "version": 3
   },
   "file_extension": ".py",
   "mimetype": "text/x-python",
   "name": "python",
   "nbconvert_exporter": "python",
   "pygments_lexer": "ipython3",
   "version": "3.9.12"
  }
 },
 "nbformat": 4,
 "nbformat_minor": 5
}
